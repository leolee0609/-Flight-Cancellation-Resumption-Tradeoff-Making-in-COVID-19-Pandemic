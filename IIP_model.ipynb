{
 "cells": [
  {
   "cell_type": "code",
   "execution_count": 2,
   "metadata": {},
   "outputs": [],
   "source": [
    "import pandas as pd\n",
    "df = pd.read_csv('flight_data_us_2021.csv')"
   ]
  },
  {
   "cell_type": "markdown",
   "metadata": {},
   "source": []
  },
  {
   "cell_type": "code",
   "execution_count": 3,
   "metadata": {},
   "outputs": [],
   "source": [
    "Trans=df[[\"ORIGIN_STATE_NM\",\"DEST_STATE_NM\",\"MONTH\",\"PASSENGERS\"]]"
   ]
  },
  {
   "cell_type": "code",
   "execution_count": 4,
   "metadata": {},
   "outputs": [],
   "source": [
    "df2 = pd.read_csv(\"monthly_covid_increase_data_by_state_2021.csv\")"
   ]
  },
  {
   "cell_type": "code",
   "execution_count": 5,
   "metadata": {},
   "outputs": [],
   "source": [
    "df2 = df2[[\"State\",\"month\",\"Increased_Confirmed\",\"Total_test_in_the_month\"]]"
   ]
  },
  {
   "cell_type": "code",
   "execution_count": 6,
   "metadata": {},
   "outputs": [],
   "source": [
    "df2.rename({\"State\":\"STATE\",\"month\":\"MONTH\"},axis=1,inplace=True)"
   ]
  },
  {
   "cell_type": "code",
   "execution_count": 7,
   "metadata": {},
   "outputs": [],
   "source": [
    "df2[\"sigma\"] = df2[\"Increased_Confirmed\"]/df2[\"Total_test_in_the_month\"]"
   ]
  },
  {
   "cell_type": "code",
   "execution_count": 8,
   "metadata": {},
   "outputs": [],
   "source": [
    "pop_by_state=pd.read_csv(\"population_by_state.csv\")"
   ]
  },
  {
   "cell_type": "code",
   "execution_count": 9,
   "metadata": {},
   "outputs": [],
   "source": [
    "pop_by_state.rename({\"US States\":\"STATE\"},axis=1,inplace=True)"
   ]
  },
  {
   "cell_type": "code",
   "execution_count": 10,
   "metadata": {},
   "outputs": [
    {
     "name": "stderr",
     "output_type": "stream",
     "text": [
      "D:\\.Anaconda\\lib\\site-packages\\pandas\\core\\frame.py:5039: SettingWithCopyWarning: \n",
      "A value is trying to be set on a copy of a slice from a DataFrame\n",
      "\n",
      "See the caveats in the documentation: https://pandas.pydata.org/pandas-docs/stable/user_guide/indexing.html#returning-a-view-versus-a-copy\n",
      "  return super().rename(\n"
     ]
    }
   ],
   "source": [
    "Trans.rename({\"ORIGIN_STATE_NM\":\"STATE\"},axis=1,inplace=True)"
   ]
  },
  {
   "cell_type": "code",
   "execution_count": 11,
   "metadata": {},
   "outputs": [
    {
     "data": {
      "text/html": [
       "<div>\n",
       "<style scoped>\n",
       "    .dataframe tbody tr th:only-of-type {\n",
       "        vertical-align: middle;\n",
       "    }\n",
       "\n",
       "    .dataframe tbody tr th {\n",
       "        vertical-align: top;\n",
       "    }\n",
       "\n",
       "    .dataframe thead th {\n",
       "        text-align: right;\n",
       "    }\n",
       "</style>\n",
       "<table border=\"1\" class=\"dataframe\">\n",
       "  <thead>\n",
       "    <tr style=\"text-align: right;\">\n",
       "      <th></th>\n",
       "      <th>STATE</th>\n",
       "      <th>MONTH</th>\n",
       "      <th>Increased_Confirmed</th>\n",
       "      <th>Total_test_in_the_month</th>\n",
       "      <th>sigma</th>\n",
       "    </tr>\n",
       "  </thead>\n",
       "  <tbody>\n",
       "    <tr>\n",
       "      <th>0</th>\n",
       "      <td>New Hampshire</td>\n",
       "      <td>1</td>\n",
       "      <td>20017</td>\n",
       "      <td>229228.0</td>\n",
       "      <td>0.087324</td>\n",
       "    </tr>\n",
       "    <tr>\n",
       "      <th>1</th>\n",
       "      <td>New Hampshire</td>\n",
       "      <td>2</td>\n",
       "      <td>9135</td>\n",
       "      <td>191378.0</td>\n",
       "      <td>0.047733</td>\n",
       "    </tr>\n",
       "    <tr>\n",
       "      <th>2</th>\n",
       "      <td>New Hampshire</td>\n",
       "      <td>3</td>\n",
       "      <td>8588</td>\n",
       "      <td>175904.0</td>\n",
       "      <td>0.048822</td>\n",
       "    </tr>\n",
       "    <tr>\n",
       "      <th>3</th>\n",
       "      <td>New Hampshire</td>\n",
       "      <td>4</td>\n",
       "      <td>10347</td>\n",
       "      <td>198958.0</td>\n",
       "      <td>0.052006</td>\n",
       "    </tr>\n",
       "    <tr>\n",
       "      <th>4</th>\n",
       "      <td>New Hampshire</td>\n",
       "      <td>5</td>\n",
       "      <td>3563</td>\n",
       "      <td>137389.0</td>\n",
       "      <td>0.025934</td>\n",
       "    </tr>\n",
       "    <tr>\n",
       "      <th>...</th>\n",
       "      <td>...</td>\n",
       "      <td>...</td>\n",
       "      <td>...</td>\n",
       "      <td>...</td>\n",
       "      <td>...</td>\n",
       "    </tr>\n",
       "    <tr>\n",
       "      <th>575</th>\n",
       "      <td>Illinois</td>\n",
       "      <td>6</td>\n",
       "      <td>9152</td>\n",
       "      <td>1139832.0</td>\n",
       "      <td>0.008029</td>\n",
       "    </tr>\n",
       "    <tr>\n",
       "      <th>576</th>\n",
       "      <td>Illinois</td>\n",
       "      <td>7</td>\n",
       "      <td>27415</td>\n",
       "      <td>1026462.0</td>\n",
       "      <td>0.026708</td>\n",
       "    </tr>\n",
       "    <tr>\n",
       "      <th>577</th>\n",
       "      <td>Illinois</td>\n",
       "      <td>8</td>\n",
       "      <td>103331</td>\n",
       "      <td>1952019.0</td>\n",
       "      <td>0.052935</td>\n",
       "    </tr>\n",
       "    <tr>\n",
       "      <th>578</th>\n",
       "      <td>Illinois</td>\n",
       "      <td>9</td>\n",
       "      <td>99388</td>\n",
       "      <td>2828101.0</td>\n",
       "      <td>0.035143</td>\n",
       "    </tr>\n",
       "    <tr>\n",
       "      <th>579</th>\n",
       "      <td>Illinois</td>\n",
       "      <td>10</td>\n",
       "      <td>64660</td>\n",
       "      <td>3410507.0</td>\n",
       "      <td>0.018959</td>\n",
       "    </tr>\n",
       "  </tbody>\n",
       "</table>\n",
       "<p>580 rows × 5 columns</p>\n",
       "</div>"
      ],
      "text/plain": [
       "             STATE  MONTH  Increased_Confirmed  Total_test_in_the_month  \\\n",
       "0    New Hampshire      1                20017                 229228.0   \n",
       "1    New Hampshire      2                 9135                 191378.0   \n",
       "2    New Hampshire      3                 8588                 175904.0   \n",
       "3    New Hampshire      4                10347                 198958.0   \n",
       "4    New Hampshire      5                 3563                 137389.0   \n",
       "..             ...    ...                  ...                      ...   \n",
       "575       Illinois      6                 9152                1139832.0   \n",
       "576       Illinois      7                27415                1026462.0   \n",
       "577       Illinois      8               103331                1952019.0   \n",
       "578       Illinois      9                99388                2828101.0   \n",
       "579       Illinois     10                64660                3410507.0   \n",
       "\n",
       "        sigma  \n",
       "0    0.087324  \n",
       "1    0.047733  \n",
       "2    0.048822  \n",
       "3    0.052006  \n",
       "4    0.025934  \n",
       "..        ...  \n",
       "575  0.008029  \n",
       "576  0.026708  \n",
       "577  0.052935  \n",
       "578  0.035143  \n",
       "579  0.018959  \n",
       "\n",
       "[580 rows x 5 columns]"
      ]
     },
     "execution_count": 11,
     "metadata": {},
     "output_type": "execute_result"
    }
   ],
   "source": [
    "df2"
   ]
  },
  {
   "cell_type": "code",
   "execution_count": 12,
   "metadata": {},
   "outputs": [
    {
     "data": {
      "text/html": [
       "<div>\n",
       "<style scoped>\n",
       "    .dataframe tbody tr th:only-of-type {\n",
       "        vertical-align: middle;\n",
       "    }\n",
       "\n",
       "    .dataframe tbody tr th {\n",
       "        vertical-align: top;\n",
       "    }\n",
       "\n",
       "    .dataframe thead th {\n",
       "        text-align: right;\n",
       "    }\n",
       "</style>\n",
       "<table border=\"1\" class=\"dataframe\">\n",
       "  <thead>\n",
       "    <tr style=\"text-align: right;\">\n",
       "      <th></th>\n",
       "      <th>STATE</th>\n",
       "      <th>MONTH</th>\n",
       "      <th>sigma</th>\n",
       "    </tr>\n",
       "  </thead>\n",
       "  <tbody>\n",
       "    <tr>\n",
       "      <th>0</th>\n",
       "      <td>New Hampshire</td>\n",
       "      <td>1</td>\n",
       "      <td>0.087324</td>\n",
       "    </tr>\n",
       "    <tr>\n",
       "      <th>1</th>\n",
       "      <td>New Hampshire</td>\n",
       "      <td>2</td>\n",
       "      <td>0.047733</td>\n",
       "    </tr>\n",
       "    <tr>\n",
       "      <th>2</th>\n",
       "      <td>New Hampshire</td>\n",
       "      <td>3</td>\n",
       "      <td>0.048822</td>\n",
       "    </tr>\n",
       "    <tr>\n",
       "      <th>3</th>\n",
       "      <td>New Hampshire</td>\n",
       "      <td>4</td>\n",
       "      <td>0.052006</td>\n",
       "    </tr>\n",
       "    <tr>\n",
       "      <th>4</th>\n",
       "      <td>New Hampshire</td>\n",
       "      <td>5</td>\n",
       "      <td>0.025934</td>\n",
       "    </tr>\n",
       "    <tr>\n",
       "      <th>...</th>\n",
       "      <td>...</td>\n",
       "      <td>...</td>\n",
       "      <td>...</td>\n",
       "    </tr>\n",
       "    <tr>\n",
       "      <th>575</th>\n",
       "      <td>Illinois</td>\n",
       "      <td>6</td>\n",
       "      <td>0.008029</td>\n",
       "    </tr>\n",
       "    <tr>\n",
       "      <th>576</th>\n",
       "      <td>Illinois</td>\n",
       "      <td>7</td>\n",
       "      <td>0.026708</td>\n",
       "    </tr>\n",
       "    <tr>\n",
       "      <th>577</th>\n",
       "      <td>Illinois</td>\n",
       "      <td>8</td>\n",
       "      <td>0.052935</td>\n",
       "    </tr>\n",
       "    <tr>\n",
       "      <th>578</th>\n",
       "      <td>Illinois</td>\n",
       "      <td>9</td>\n",
       "      <td>0.035143</td>\n",
       "    </tr>\n",
       "    <tr>\n",
       "      <th>579</th>\n",
       "      <td>Illinois</td>\n",
       "      <td>10</td>\n",
       "      <td>0.018959</td>\n",
       "    </tr>\n",
       "  </tbody>\n",
       "</table>\n",
       "<p>580 rows × 3 columns</p>\n",
       "</div>"
      ],
      "text/plain": [
       "             STATE  MONTH     sigma\n",
       "0    New Hampshire      1  0.087324\n",
       "1    New Hampshire      2  0.047733\n",
       "2    New Hampshire      3  0.048822\n",
       "3    New Hampshire      4  0.052006\n",
       "4    New Hampshire      5  0.025934\n",
       "..             ...    ...       ...\n",
       "575       Illinois      6  0.008029\n",
       "576       Illinois      7  0.026708\n",
       "577       Illinois      8  0.052935\n",
       "578       Illinois      9  0.035143\n",
       "579       Illinois     10  0.018959\n",
       "\n",
       "[580 rows x 3 columns]"
      ]
     },
     "execution_count": 12,
     "metadata": {},
     "output_type": "execute_result"
    }
   ],
   "source": [
    "df2[[\"STATE\",\"MONTH\",\"sigma\"]]"
   ]
  },
  {
   "cell_type": "code",
   "execution_count": 13,
   "metadata": {},
   "outputs": [],
   "source": [
    "Trans=Trans.merge(df2[[\"STATE\",\"MONTH\",\"sigma\"]],how=\"left\",on=[\"STATE\",\"MONTH\"])\n",
    "Trans[\"temp\"]=Trans[\"sigma\"]*Trans[\"PASSENGERS\"]"
   ]
  },
  {
   "cell_type": "code",
   "execution_count": 14,
   "metadata": {},
   "outputs": [
    {
     "data": {
      "text/html": [
       "<div>\n",
       "<style scoped>\n",
       "    .dataframe tbody tr th:only-of-type {\n",
       "        vertical-align: middle;\n",
       "    }\n",
       "\n",
       "    .dataframe tbody tr th {\n",
       "        vertical-align: top;\n",
       "    }\n",
       "\n",
       "    .dataframe thead th {\n",
       "        text-align: right;\n",
       "    }\n",
       "</style>\n",
       "<table border=\"1\" class=\"dataframe\">\n",
       "  <thead>\n",
       "    <tr style=\"text-align: right;\">\n",
       "      <th></th>\n",
       "      <th>DEST_STATE_NM</th>\n",
       "      <th>MONTH</th>\n",
       "      <th>temp</th>\n",
       "      <th>State Rank</th>\n",
       "      <th>Population 2020</th>\n",
       "      <th>US States by population percentage (2020)</th>\n",
       "    </tr>\n",
       "  </thead>\n",
       "  <tbody>\n",
       "    <tr>\n",
       "      <th>0</th>\n",
       "      <td>Alabama</td>\n",
       "      <td>1</td>\n",
       "      <td>13583.573172</td>\n",
       "      <td>24.0</td>\n",
       "      <td>5,024,279</td>\n",
       "      <td>1.50%</td>\n",
       "    </tr>\n",
       "    <tr>\n",
       "      <th>1</th>\n",
       "      <td>Alabama</td>\n",
       "      <td>2</td>\n",
       "      <td>7842.779545</td>\n",
       "      <td>24.0</td>\n",
       "      <td>5,024,279</td>\n",
       "      <td>1.50%</td>\n",
       "    </tr>\n",
       "    <tr>\n",
       "      <th>2</th>\n",
       "      <td>Alabama</td>\n",
       "      <td>3</td>\n",
       "      <td>20776.569926</td>\n",
       "      <td>24.0</td>\n",
       "      <td>5,024,279</td>\n",
       "      <td>1.50%</td>\n",
       "    </tr>\n",
       "    <tr>\n",
       "      <th>3</th>\n",
       "      <td>Alabama</td>\n",
       "      <td>4</td>\n",
       "      <td>9095.715099</td>\n",
       "      <td>24.0</td>\n",
       "      <td>5,024,279</td>\n",
       "      <td>1.50%</td>\n",
       "    </tr>\n",
       "    <tr>\n",
       "      <th>4</th>\n",
       "      <td>Alabama</td>\n",
       "      <td>5</td>\n",
       "      <td>7765.344997</td>\n",
       "      <td>24.0</td>\n",
       "      <td>5,024,279</td>\n",
       "      <td>1.50%</td>\n",
       "    </tr>\n",
       "    <tr>\n",
       "      <th>...</th>\n",
       "      <td>...</td>\n",
       "      <td>...</td>\n",
       "      <td>...</td>\n",
       "      <td>...</td>\n",
       "      <td>...</td>\n",
       "      <td>...</td>\n",
       "    </tr>\n",
       "    <tr>\n",
       "      <th>525</th>\n",
       "      <td>Wyoming</td>\n",
       "      <td>6</td>\n",
       "      <td>2956.772593</td>\n",
       "      <td>51.0</td>\n",
       "      <td>576,851</td>\n",
       "      <td>0.17%</td>\n",
       "    </tr>\n",
       "    <tr>\n",
       "      <th>526</th>\n",
       "      <td>Wyoming</td>\n",
       "      <td>7</td>\n",
       "      <td>6111.922739</td>\n",
       "      <td>51.0</td>\n",
       "      <td>576,851</td>\n",
       "      <td>0.17%</td>\n",
       "    </tr>\n",
       "    <tr>\n",
       "      <th>527</th>\n",
       "      <td>Wyoming</td>\n",
       "      <td>8</td>\n",
       "      <td>8717.337263</td>\n",
       "      <td>51.0</td>\n",
       "      <td>576,851</td>\n",
       "      <td>0.17%</td>\n",
       "    </tr>\n",
       "    <tr>\n",
       "      <th>528</th>\n",
       "      <td>Wyoming</td>\n",
       "      <td>9</td>\n",
       "      <td>6418.698517</td>\n",
       "      <td>51.0</td>\n",
       "      <td>576,851</td>\n",
       "      <td>0.17%</td>\n",
       "    </tr>\n",
       "    <tr>\n",
       "      <th>529</th>\n",
       "      <td>Wyoming</td>\n",
       "      <td>10</td>\n",
       "      <td>NaN</td>\n",
       "      <td>51.0</td>\n",
       "      <td>576,851</td>\n",
       "      <td>0.17%</td>\n",
       "    </tr>\n",
       "  </tbody>\n",
       "</table>\n",
       "<p>530 rows × 6 columns</p>\n",
       "</div>"
      ],
      "text/plain": [
       "    DEST_STATE_NM  MONTH          temp  State Rank Population 2020  \\\n",
       "0         Alabama      1  13583.573172        24.0       5,024,279   \n",
       "1         Alabama      2   7842.779545        24.0       5,024,279   \n",
       "2         Alabama      3  20776.569926        24.0       5,024,279   \n",
       "3         Alabama      4   9095.715099        24.0       5,024,279   \n",
       "4         Alabama      5   7765.344997        24.0       5,024,279   \n",
       "..            ...    ...           ...         ...             ...   \n",
       "525       Wyoming      6   2956.772593        51.0         576,851   \n",
       "526       Wyoming      7   6111.922739        51.0         576,851   \n",
       "527       Wyoming      8   8717.337263        51.0         576,851   \n",
       "528       Wyoming      9   6418.698517        51.0         576,851   \n",
       "529       Wyoming     10           NaN        51.0         576,851   \n",
       "\n",
       "    US States by population percentage (2020)  \n",
       "0                                       1.50%  \n",
       "1                                       1.50%  \n",
       "2                                       1.50%  \n",
       "3                                       1.50%  \n",
       "4                                       1.50%  \n",
       "..                                        ...  \n",
       "525                                     0.17%  \n",
       "526                                     0.17%  \n",
       "527                                     0.17%  \n",
       "528                                     0.17%  \n",
       "529                                     0.17%  \n",
       "\n",
       "[530 rows x 6 columns]"
      ]
     },
     "execution_count": 14,
     "metadata": {},
     "output_type": "execute_result"
    }
   ],
   "source": [
    "t2=Trans[[\"DEST_STATE_NM\",\"MONTH\",\"temp\"]].groupby([\"DEST_STATE_NM\",\"MONTH\"]).sum().reset_index()\n",
    "pop_by_state.rename({\"STATE\":\"DEST_STATE_NM\"},axis=1,inplace=True)\n",
    "t2=t2.merge(pop_by_state,how=\"left\",on=[\"DEST_STATE_NM\"])\n",
    "t2"
   ]
  },
  {
   "cell_type": "code",
   "execution_count": 15,
   "metadata": {},
   "outputs": [
    {
     "data": {
      "text/html": [
       "<div>\n",
       "<style scoped>\n",
       "    .dataframe tbody tr th:only-of-type {\n",
       "        vertical-align: middle;\n",
       "    }\n",
       "\n",
       "    .dataframe tbody tr th {\n",
       "        vertical-align: top;\n",
       "    }\n",
       "\n",
       "    .dataframe thead th {\n",
       "        text-align: right;\n",
       "    }\n",
       "</style>\n",
       "<table border=\"1\" class=\"dataframe\">\n",
       "  <thead>\n",
       "    <tr style=\"text-align: right;\">\n",
       "      <th></th>\n",
       "      <th>DEST_STATE_NM</th>\n",
       "      <th>MONTH</th>\n",
       "      <th>temp</th>\n",
       "      <th>State Rank</th>\n",
       "      <th>Population 2020</th>\n",
       "      <th>US States by population percentage (2020)</th>\n",
       "    </tr>\n",
       "  </thead>\n",
       "  <tbody>\n",
       "    <tr>\n",
       "      <th>0</th>\n",
       "      <td>Alabama</td>\n",
       "      <td>1</td>\n",
       "      <td>13583.573172</td>\n",
       "      <td>24.0</td>\n",
       "      <td>5,024,279</td>\n",
       "      <td>1.50%</td>\n",
       "    </tr>\n",
       "    <tr>\n",
       "      <th>1</th>\n",
       "      <td>Alabama</td>\n",
       "      <td>2</td>\n",
       "      <td>7842.779545</td>\n",
       "      <td>24.0</td>\n",
       "      <td>5,024,279</td>\n",
       "      <td>1.50%</td>\n",
       "    </tr>\n",
       "    <tr>\n",
       "      <th>2</th>\n",
       "      <td>Alabama</td>\n",
       "      <td>3</td>\n",
       "      <td>20776.569926</td>\n",
       "      <td>24.0</td>\n",
       "      <td>5,024,279</td>\n",
       "      <td>1.50%</td>\n",
       "    </tr>\n",
       "    <tr>\n",
       "      <th>3</th>\n",
       "      <td>Alabama</td>\n",
       "      <td>4</td>\n",
       "      <td>9095.715099</td>\n",
       "      <td>24.0</td>\n",
       "      <td>5,024,279</td>\n",
       "      <td>1.50%</td>\n",
       "    </tr>\n",
       "    <tr>\n",
       "      <th>4</th>\n",
       "      <td>Alabama</td>\n",
       "      <td>5</td>\n",
       "      <td>7765.344997</td>\n",
       "      <td>24.0</td>\n",
       "      <td>5,024,279</td>\n",
       "      <td>1.50%</td>\n",
       "    </tr>\n",
       "  </tbody>\n",
       "</table>\n",
       "</div>"
      ],
      "text/plain": [
       "  DEST_STATE_NM  MONTH          temp  State Rank Population 2020  \\\n",
       "0       Alabama      1  13583.573172        24.0       5,024,279   \n",
       "1       Alabama      2   7842.779545        24.0       5,024,279   \n",
       "2       Alabama      3  20776.569926        24.0       5,024,279   \n",
       "3       Alabama      4   9095.715099        24.0       5,024,279   \n",
       "4       Alabama      5   7765.344997        24.0       5,024,279   \n",
       "\n",
       "  US States by population percentage (2020)  \n",
       "0                                     1.50%  \n",
       "1                                     1.50%  \n",
       "2                                     1.50%  \n",
       "3                                     1.50%  \n",
       "4                                     1.50%  "
      ]
     },
     "execution_count": 15,
     "metadata": {},
     "output_type": "execute_result"
    }
   ],
   "source": [
    "t2.head()"
   ]
  },
  {
   "cell_type": "code",
   "execution_count": 16,
   "metadata": {},
   "outputs": [
    {
     "data": {
      "text/html": [
       "<div>\n",
       "<style scoped>\n",
       "    .dataframe tbody tr th:only-of-type {\n",
       "        vertical-align: middle;\n",
       "    }\n",
       "\n",
       "    .dataframe tbody tr th {\n",
       "        vertical-align: top;\n",
       "    }\n",
       "\n",
       "    .dataframe thead th {\n",
       "        text-align: right;\n",
       "    }\n",
       "</style>\n",
       "<table border=\"1\" class=\"dataframe\">\n",
       "  <thead>\n",
       "    <tr style=\"text-align: right;\">\n",
       "      <th></th>\n",
       "      <th>DEST_STATE_NM</th>\n",
       "      <th>MONTH</th>\n",
       "      <th>temp</th>\n",
       "      <th>State Rank</th>\n",
       "      <th>Population 2020</th>\n",
       "      <th>US States by population percentage (2020)</th>\n",
       "      <th>Population</th>\n",
       "      <th>IIP</th>\n",
       "    </tr>\n",
       "  </thead>\n",
       "  <tbody>\n",
       "    <tr>\n",
       "      <th>0</th>\n",
       "      <td>Alabama</td>\n",
       "      <td>1</td>\n",
       "      <td>13583.573172</td>\n",
       "      <td>24.0</td>\n",
       "      <td>5,024,279</td>\n",
       "      <td>1.50%</td>\n",
       "      <td>5024279.0</td>\n",
       "      <td>0.002704</td>\n",
       "    </tr>\n",
       "    <tr>\n",
       "      <th>1</th>\n",
       "      <td>Alabama</td>\n",
       "      <td>2</td>\n",
       "      <td>7842.779545</td>\n",
       "      <td>24.0</td>\n",
       "      <td>5,024,279</td>\n",
       "      <td>1.50%</td>\n",
       "      <td>5024279.0</td>\n",
       "      <td>0.001561</td>\n",
       "    </tr>\n",
       "    <tr>\n",
       "      <th>2</th>\n",
       "      <td>Alabama</td>\n",
       "      <td>3</td>\n",
       "      <td>20776.569926</td>\n",
       "      <td>24.0</td>\n",
       "      <td>5,024,279</td>\n",
       "      <td>1.50%</td>\n",
       "      <td>5024279.0</td>\n",
       "      <td>0.004135</td>\n",
       "    </tr>\n",
       "    <tr>\n",
       "      <th>3</th>\n",
       "      <td>Alabama</td>\n",
       "      <td>4</td>\n",
       "      <td>9095.715099</td>\n",
       "      <td>24.0</td>\n",
       "      <td>5,024,279</td>\n",
       "      <td>1.50%</td>\n",
       "      <td>5024279.0</td>\n",
       "      <td>0.001810</td>\n",
       "    </tr>\n",
       "    <tr>\n",
       "      <th>4</th>\n",
       "      <td>Alabama</td>\n",
       "      <td>5</td>\n",
       "      <td>7765.344997</td>\n",
       "      <td>24.0</td>\n",
       "      <td>5,024,279</td>\n",
       "      <td>1.50%</td>\n",
       "      <td>5024279.0</td>\n",
       "      <td>0.001546</td>\n",
       "    </tr>\n",
       "    <tr>\n",
       "      <th>...</th>\n",
       "      <td>...</td>\n",
       "      <td>...</td>\n",
       "      <td>...</td>\n",
       "      <td>...</td>\n",
       "      <td>...</td>\n",
       "      <td>...</td>\n",
       "      <td>...</td>\n",
       "      <td>...</td>\n",
       "    </tr>\n",
       "    <tr>\n",
       "      <th>525</th>\n",
       "      <td>Wyoming</td>\n",
       "      <td>6</td>\n",
       "      <td>2956.772593</td>\n",
       "      <td>51.0</td>\n",
       "      <td>576,851</td>\n",
       "      <td>0.17%</td>\n",
       "      <td>576851.0</td>\n",
       "      <td>0.005126</td>\n",
       "    </tr>\n",
       "    <tr>\n",
       "      <th>526</th>\n",
       "      <td>Wyoming</td>\n",
       "      <td>7</td>\n",
       "      <td>6111.922739</td>\n",
       "      <td>51.0</td>\n",
       "      <td>576,851</td>\n",
       "      <td>0.17%</td>\n",
       "      <td>576851.0</td>\n",
       "      <td>0.010595</td>\n",
       "    </tr>\n",
       "    <tr>\n",
       "      <th>527</th>\n",
       "      <td>Wyoming</td>\n",
       "      <td>8</td>\n",
       "      <td>8717.337263</td>\n",
       "      <td>51.0</td>\n",
       "      <td>576,851</td>\n",
       "      <td>0.17%</td>\n",
       "      <td>576851.0</td>\n",
       "      <td>0.015112</td>\n",
       "    </tr>\n",
       "    <tr>\n",
       "      <th>528</th>\n",
       "      <td>Wyoming</td>\n",
       "      <td>9</td>\n",
       "      <td>6418.698517</td>\n",
       "      <td>51.0</td>\n",
       "      <td>576,851</td>\n",
       "      <td>0.17%</td>\n",
       "      <td>576851.0</td>\n",
       "      <td>0.011127</td>\n",
       "    </tr>\n",
       "    <tr>\n",
       "      <th>529</th>\n",
       "      <td>Wyoming</td>\n",
       "      <td>10</td>\n",
       "      <td>NaN</td>\n",
       "      <td>51.0</td>\n",
       "      <td>576,851</td>\n",
       "      <td>0.17%</td>\n",
       "      <td>576851.0</td>\n",
       "      <td>NaN</td>\n",
       "    </tr>\n",
       "  </tbody>\n",
       "</table>\n",
       "<p>530 rows × 8 columns</p>\n",
       "</div>"
      ],
      "text/plain": [
       "    DEST_STATE_NM  MONTH          temp  State Rank Population 2020  \\\n",
       "0         Alabama      1  13583.573172        24.0       5,024,279   \n",
       "1         Alabama      2   7842.779545        24.0       5,024,279   \n",
       "2         Alabama      3  20776.569926        24.0       5,024,279   \n",
       "3         Alabama      4   9095.715099        24.0       5,024,279   \n",
       "4         Alabama      5   7765.344997        24.0       5,024,279   \n",
       "..            ...    ...           ...         ...             ...   \n",
       "525       Wyoming      6   2956.772593        51.0         576,851   \n",
       "526       Wyoming      7   6111.922739        51.0         576,851   \n",
       "527       Wyoming      8   8717.337263        51.0         576,851   \n",
       "528       Wyoming      9   6418.698517        51.0         576,851   \n",
       "529       Wyoming     10           NaN        51.0         576,851   \n",
       "\n",
       "    US States by population percentage (2020)  Population       IIP  \n",
       "0                                       1.50%   5024279.0  0.002704  \n",
       "1                                       1.50%   5024279.0  0.001561  \n",
       "2                                       1.50%   5024279.0  0.004135  \n",
       "3                                       1.50%   5024279.0  0.001810  \n",
       "4                                       1.50%   5024279.0  0.001546  \n",
       "..                                        ...         ...       ...  \n",
       "525                                     0.17%    576851.0  0.005126  \n",
       "526                                     0.17%    576851.0  0.010595  \n",
       "527                                     0.17%    576851.0  0.015112  \n",
       "528                                     0.17%    576851.0  0.011127  \n",
       "529                                     0.17%    576851.0       NaN  \n",
       "\n",
       "[530 rows x 8 columns]"
      ]
     },
     "execution_count": 16,
     "metadata": {},
     "output_type": "execute_result"
    }
   ],
   "source": [
    "def remove(x):\n",
    "    if isinstance(x,float):\n",
    "        return x\n",
    "    else:\n",
    "        return x.replace(\",\",\"\")\n",
    "t2[\"Population\"]=pd.to_numeric(t2[\"Population 2020\"].apply(remove))\n",
    "\n",
    "t2[\"IIP\"]=t2[\"temp\"]/t2[\"Population\"]\n",
    "t2"
   ]
  },
  {
   "cell_type": "code",
   "execution_count": 17,
   "metadata": {},
   "outputs": [],
   "source": [
    "t2.rename({\"DEST_STATE_NM\":\"STATE\"},axis=1,inplace=True)\n",
    "t2=t2[[\"STATE\",\"MONTH\",\"IIP\"]]"
   ]
  },
  {
   "cell_type": "code",
   "execution_count": 18,
   "metadata": {},
   "outputs": [],
   "source": [
    "t2.to_csv(\"IIP_data.csv\")"
   ]
  },
  {
   "cell_type": "code",
   "execution_count": 19,
   "metadata": {},
   "outputs": [],
   "source": [
    "data=pd.read_csv(\"monthly_covid_increase_data_by_state_2021.csv\")"
   ]
  },
  {
   "cell_type": "code",
   "execution_count": 20,
   "metadata": {},
   "outputs": [],
   "source": [
    "data.rename({\"State\":\"STATE\",\"month\":\"MONTH\"},axis=1,inplace=True)"
   ]
  },
  {
   "cell_type": "code",
   "execution_count": 21,
   "metadata": {},
   "outputs": [
    {
     "name": "stderr",
     "output_type": "stream",
     "text": [
      "D:\\.Anaconda\\lib\\site-packages\\pandas\\util\\_decorators.py:311: SettingWithCopyWarning: \n",
      "A value is trying to be set on a copy of a slice from a DataFrame\n",
      "\n",
      "See the caveats in the documentation: https://pandas.pydata.org/pandas-docs/stable/user_guide/indexing.html#returning-a-view-versus-a-copy\n",
      "  return func(*args, **kwargs)\n"
     ]
    }
   ],
   "source": [
    "t2=t2.merge(data,how=\"left\",on=[\"STATE\",\"MONTH\"])\n",
    "train=t2[[\"IIP\",\"Increased_Confirmed\"]]\n",
    "train.dropna(axis=0,inplace=True)"
   ]
  },
  {
   "cell_type": "code",
   "execution_count": 22,
   "metadata": {},
   "outputs": [
    {
     "data": {
      "text/plain": [
       "LinearRegression()"
      ]
     },
     "execution_count": 22,
     "metadata": {},
     "output_type": "execute_result"
    }
   ],
   "source": [
    "from sklearn.linear_model import LinearRegression\n",
    "from sklearn.model_selection import cross_val_score\n",
    "import numpy as np\n",
    "model=LinearRegression()\n",
    "X=train[\"IIP\"].values\n",
    "X=np.expand_dims(X,axis=1)\n",
    "y=train[\"Increased_Confirmed\"].values\n",
    "model = LinearRegression()\n",
    "model.fit(X,y)"
   ]
  },
  {
   "cell_type": "code",
   "execution_count": 23,
   "metadata": {},
   "outputs": [
    {
     "data": {
      "text/plain": [
       "array([1515578.82332826])"
      ]
     },
     "execution_count": 23,
     "metadata": {},
     "output_type": "execute_result"
    }
   ],
   "source": [
    "model.coef_"
   ]
  },
  {
   "cell_type": "code",
   "execution_count": 24,
   "metadata": {},
   "outputs": [
    {
     "data": {
      "text/plain": [
       "34608.0631999788"
      ]
     },
     "execution_count": 24,
     "metadata": {},
     "output_type": "execute_result"
    }
   ],
   "source": [
    "model.intercept_"
   ]
  },
  {
   "cell_type": "code",
   "execution_count": 25,
   "metadata": {},
   "outputs": [],
   "source": [
    "from sklearn.metrics import mean_squared_error\n",
    "y_pred=model.predict(X)\n"
   ]
  },
  {
   "cell_type": "code",
   "execution_count": 27,
   "metadata": {},
   "outputs": [
    {
     "data": {
      "text/plain": [
       "<matplotlib.collections.PathCollection at 0x1d0935877c0>"
      ]
     },
     "execution_count": 27,
     "metadata": {},
     "output_type": "execute_result"
    },
    {
     "data": {
      "image/png": "[encoded data removed]",
      "text/plain": [
       "<Figure size 432x288 with 1 Axes>"
      ]
     },
     "metadata": {
      "needs_background": "light"
     },
     "output_type": "display_data"
    }
   ],
   "source": [
    "import matplotlib.pyplot as plt\n",
    "\n",
    "plt.scatter(X,y_pred)\n",
    "plt.scatter(X,y)"
   ]
  },
  {
   "cell_type": "code",
   "execution_count": 29,
   "metadata": {},
   "outputs": [],
   "source": [
    "from scipy import stats\n",
    "import numpy as np\n",
    "\n",
    "slope, intercept, r_value, p_value, std_err = stats.linregress(train[\"IIP\"].values,y)"
   ]
  },
  {
   "cell_type": "code",
   "execution_count": 30,
   "metadata": {},
   "outputs": [
    {
     "data": {
      "text/plain": [
       "4.331449676062167e-05"
      ]
     },
     "execution_count": 30,
     "metadata": {},
     "output_type": "execute_result"
    }
   ],
   "source": [
    "p_value"
   ]
  },
  {
   "cell_type": "code",
   "execution_count": 31,
   "metadata": {},
   "outputs": [
    {
     "data": {
      "text/plain": [
       "0.18883235746084254"
      ]
     },
     "execution_count": 31,
     "metadata": {},
     "output_type": "execute_result"
    }
   ],
   "source": [
    "r_value"
   ]
  },
  {
   "cell_type": "code",
   "execution_count": 32,
   "metadata": {},
   "outputs": [
    {
     "data": {
      "text/plain": [
       "34608.0631999788"
      ]
     },
     "execution_count": 32,
     "metadata": {},
     "output_type": "execute_result"
    }
   ],
   "source": [
    "intercept"
   ]
  },
  {
   "cell_type": "code",
   "execution_count": 33,
   "metadata": {},
   "outputs": [
    {
     "data": {
      "text/plain": [
       "1515578.8233282648"
      ]
     },
     "execution_count": 33,
     "metadata": {},
     "output_type": "execute_result"
    }
   ],
   "source": [
    "slope"
   ]
  },
  {
   "cell_type": "code",
   "execution_count": 34,
   "metadata": {},
   "outputs": [
    {
     "data": {
      "text/plain": [
       "367085.5323651941"
      ]
     },
     "execution_count": 34,
     "metadata": {},
     "output_type": "execute_result"
    }
   ],
   "source": [
    "std_err"
   ]
  },
  {
   "cell_type": "code",
   "execution_count": 37,
   "metadata": {},
   "outputs": [],
   "source": [
    "import statsmodels.api as sm\n",
    "import numpy as np\n",
    "\n",
    "model = sm.OLS(y,train[\"IIP\"].values)\n",
    "results = model.fit()"
   ]
  },
  {
   "cell_type": "code",
   "execution_count": 41,
   "metadata": {},
   "outputs": [
    {
     "data": {
      "text/html": [
       "<table class=\"simpletable\">\n",
       "<caption>OLS Regression Results</caption>\n",
       "<tr>\n",
       "  <th>Dep. Variable:</th>            <td>y</td>        <th>  R-squared (uncentered):</th>      <td>   0.204</td> \n",
       "</tr>\n",
       "<tr>\n",
       "  <th>Model:</th>                   <td>OLS</td>       <th>  Adj. R-squared (uncentered):</th> <td>   0.202</td> \n",
       "</tr>\n",
       "<tr>\n",
       "  <th>Method:</th>             <td>Least Squares</td>  <th>  F-statistic:       </th>          <td>   118.3</td> \n",
       "</tr>\n",
       "<tr>\n",
       "  <th>Date:</th>             <td>Thu, 10 Mar 2022</td> <th>  Prob (F-statistic):</th>          <td>1.11e-24</td> \n",
       "</tr>\n",
       "<tr>\n",
       "  <th>Time:</th>                 <td>11:37:39</td>     <th>  Log-Likelihood:    </th>          <td> -5928.5</td> \n",
       "</tr>\n",
       "<tr>\n",
       "  <th>No. Observations:</th>      <td>   463</td>      <th>  AIC:               </th>          <td>1.186e+04</td>\n",
       "</tr>\n",
       "<tr>\n",
       "  <th>Df Residuals:</th>          <td>   462</td>      <th>  BIC:               </th>          <td>1.186e+04</td>\n",
       "</tr>\n",
       "<tr>\n",
       "  <th>Df Model:</th>              <td>     1</td>      <th>                     </th>              <td> </td>    \n",
       "</tr>\n",
       "<tr>\n",
       "  <th>Covariance Type:</th>      <td>nonrobust</td>    <th>                     </th>              <td> </td>    \n",
       "</tr>\n",
       "</table>\n",
       "<table class=\"simpletable\">\n",
       "<tr>\n",
       "   <td></td>     <th>coef</th>     <th>std err</th>      <th>t</th>      <th>P>|t|</th>  <th>[0.025</th>    <th>0.975]</th>  \n",
       "</tr>\n",
       "<tr>\n",
       "  <th>x1</th> <td> 3.124e+06</td> <td> 2.87e+05</td> <td>   10.875</td> <td> 0.000</td> <td> 2.56e+06</td> <td> 3.69e+06</td>\n",
       "</tr>\n",
       "</table>\n",
       "<table class=\"simpletable\">\n",
       "<tr>\n",
       "  <th>Omnibus:</th>       <td>465.620</td> <th>  Durbin-Watson:     </th> <td>   1.004</td> \n",
       "</tr>\n",
       "<tr>\n",
       "  <th>Prob(Omnibus):</th> <td> 0.000</td>  <th>  Jarque-Bera (JB):  </th> <td>24189.718</td>\n",
       "</tr>\n",
       "<tr>\n",
       "  <th>Skew:</th>          <td> 4.327</td>  <th>  Prob(JB):          </th> <td>    0.00</td> \n",
       "</tr>\n",
       "<tr>\n",
       "  <th>Kurtosis:</th>      <td>37.337</td>  <th>  Cond. No.          </th> <td>    1.00</td> \n",
       "</tr>\n",
       "</table><br/><br/>Notes:<br/>[1] R² is computed without centering (uncentered) since the model does not contain a constant.<br/>[2] Standard Errors assume that the covariance matrix of the errors is correctly specified."
      ],
      "text/plain": [
       "<class 'statsmodels.iolib.summary.Summary'>\n",
       "\"\"\"\n",
       "                                 OLS Regression Results                                \n",
       "=======================================================================================\n",
       "Dep. Variable:                      y   R-squared (uncentered):                   0.204\n",
       "Model:                            OLS   Adj. R-squared (uncentered):              0.202\n",
       "Method:                 Least Squares   F-statistic:                              118.3\n",
       "Date:                Thu, 10 Mar 2022   Prob (F-statistic):                    1.11e-24\n",
       "Time:                        11:37:39   Log-Likelihood:                         -5928.5\n",
       "No. Observations:                 463   AIC:                                  1.186e+04\n",
       "Df Residuals:                     462   BIC:                                  1.186e+04\n",
       "Df Model:                           1                                                  \n",
       "Covariance Type:            nonrobust                                                  \n",
       "==============================================================================\n",
       "                 coef    std err          t      P>|t|      [0.025      0.975]\n",
       "------------------------------------------------------------------------------\n",
       "x1          3.124e+06   2.87e+05     10.875      0.000    2.56e+06    3.69e+06\n",
       "==============================================================================\n",
       "Omnibus:                      465.620   Durbin-Watson:                   1.004\n",
       "Prob(Omnibus):                  0.000   Jarque-Bera (JB):            24189.718\n",
       "Skew:                           4.327   Prob(JB):                         0.00\n",
       "Kurtosis:                      37.337   Cond. No.                         1.00\n",
       "==============================================================================\n",
       "\n",
       "Notes:\n",
       "[1] R² is computed without centering (uncentered) since the model does not contain a constant.\n",
       "[2] Standard Errors assume that the covariance matrix of the errors is correctly specified.\n",
       "\"\"\""
      ]
     },
     "execution_count": 41,
     "metadata": {},
     "output_type": "execute_result"
    }
   ],
   "source": [
    "results.summary()"
   ]
  },
  {
   "cell_type": "code",
   "execution_count": null,
   "metadata": {},
   "outputs": [],
   "source": []
  },
  {
   "cell_type": "code",
   "execution_count": null,
   "metadata": {},
   "outputs": [],
   "source": []
  }
 ],
 "metadata": {
  "interpreter": {
   "hash": "a057f92e7a4d2b1e7cfade17206b9405f7bda8d98921963af057184e3bc83477"
  },
  "kernelspec": {
   "display_name": "Python 3",
   "language": "python",
   "name": "python3"
  },
  "language_info": {
   "codemirror_mode": {
    "name": "ipython",
    "version": 3
   },
   "file_extension": ".py",
   "mimetype": "text/x-python",
   "name": "python",
   "nbconvert_exporter": "python",
   "pygments_lexer": "ipython3",
   "version": "3.7.11"
  }
 },
 "nbformat": 4,
 "nbformat_minor": 2
}
